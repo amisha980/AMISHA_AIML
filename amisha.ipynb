{
  "nbformat": 4,
  "nbformat_minor": 0,
  "metadata": {
    "colab": {
      "provenance": [],
      "authorship_tag": "ABX9TyMw2u9XXrg5WzTLXYrLZY09",
      "include_colab_link": true
    },
    "kernelspec": {
      "name": "python3",
      "display_name": "Python 3"
    },
    "language_info": {
      "name": "python"
    }
  },
  "cells": [
    {
      "cell_type": "markdown",
      "metadata": {
        "id": "view-in-github",
        "colab_type": "text"
      },
      "source": [
        "<a href=\"https://colab.research.google.com/github/amisha980/AMISHA_AIML/blob/main/amisha.ipynb\" target=\"_parent\"><img src=\"https://colab.research.google.com/assets/colab-badge.svg\" alt=\"Open In Colab\"/></a>"
      ]
    },
    {
      "cell_type": "code",
      "execution_count": 1,
      "metadata": {
        "colab": {
          "base_uri": "https://localhost:8080/"
        },
        "id": "z2OJj9efZUBN",
        "outputId": "6bf5a98d-b77f-4cf6-99cb-104326290914"
      },
      "outputs": [
        {
          "output_type": "stream",
          "name": "stdout",
          "text": [
            "hello\n"
          ]
        }
      ],
      "source": [
        "print(\"hello\")"
      ]
    },
    {
      "cell_type": "code",
      "source": [
        "a=2\n",
        "b=5\n",
        "print(2**5)"
      ],
      "metadata": {
        "colab": {
          "base_uri": "https://localhost:8080/"
        },
        "id": "_WXU2MivbS4_",
        "outputId": "fa377011-5681-4eb9-9426-400f16e1527b"
      },
      "execution_count": 2,
      "outputs": [
        {
          "output_type": "stream",
          "name": "stdout",
          "text": [
            "32\n"
          ]
        }
      ]
    },
    {
      "cell_type": "code",
      "source": [
        "#Using / and //\n",
        "a=8\n",
        "b=3\n",
        "print(a/b)\n",
        "print(a//b)\n",
        "\n"
      ],
      "metadata": {
        "colab": {
          "base_uri": "https://localhost:8080/"
        },
        "id": "jVSOnV9Fb0lR",
        "outputId": "373e6986-a962-4a24-a48b-6c0e37e4db04"
      },
      "execution_count": 3,
      "outputs": [
        {
          "output_type": "stream",
          "name": "stdout",
          "text": [
            "2.6666666666666665\n",
            "2\n"
          ]
        }
      ]
    },
    {
      "cell_type": "code",
      "source": [
        "a=True\n",
        "b=True\n",
        "c=False\n",
        "print(a and b)\n",
        "print(a and c)\n",
        "print(a or b)    \n",
        "print(not c)"
      ],
      "metadata": {
        "colab": {
          "base_uri": "https://localhost:8080/"
        },
        "id": "j7X9b-GidQUO",
        "outputId": "3d6cb293-6a61-4fd2-f50c-599b2f2b1eb0"
      },
      "execution_count": 4,
      "outputs": [
        {
          "output_type": "stream",
          "name": "stdout",
          "text": [
            "True\n",
            "False\n",
            "True\n",
            "True\n"
          ]
        }
      ]
    },
    {
      "cell_type": "code",
      "source": [
        "a=5\n",
        "b=2\n",
        "print(a<<b)"
      ],
      "metadata": {
        "colab": {
          "base_uri": "https://localhost:8080/"
        },
        "id": "Up5XhtYxd8VN",
        "outputId": "19be1017-998f-4cc9-98c3-61f9fe20d9df"
      },
      "execution_count": 5,
      "outputs": [
        {
          "output_type": "stream",
          "name": "stdout",
          "text": [
            "20\n"
          ]
        }
      ]
    },
    {
      "cell_type": "code",
      "source": [
        "a=5\n",
        "b=2\n",
        "print(a>>b)"
      ],
      "metadata": {
        "colab": {
          "base_uri": "https://localhost:8080/"
        },
        "id": "7TYKTvmRfRQX",
        "outputId": "fbfed231-67df-4227-9f5e-cb8404dcab5b"
      },
      "execution_count": 6,
      "outputs": [
        {
          "output_type": "stream",
          "name": "stdout",
          "text": [
            "1\n"
          ]
        }
      ]
    },
    {
      "cell_type": "code",
      "source": [
        "#Using ASSIGNMENT operator\n",
        "a=5\n",
        "a+=5\n",
        "print(a)\n",
        "a-=5\n",
        "print(a)\n"
      ],
      "metadata": {
        "colab": {
          "base_uri": "https://localhost:8080/"
        },
        "id": "BcYtMsTDffq-",
        "outputId": "fb948b62-7919-4f20-823f-62dc06ede2ed"
      },
      "execution_count": 7,
      "outputs": [
        {
          "output_type": "stream",
          "name": "stdout",
          "text": [
            "10\n",
            "5\n"
          ]
        }
      ]
    },
    {
      "cell_type": "code",
      "source": [
        "x=5\n",
        "y=5\n",
        "print(x is y)\n",
        "y=6\n",
        "print(x is not y)"
      ],
      "metadata": {
        "colab": {
          "base_uri": "https://localhost:8080/"
        },
        "id": "Y2x8fYj-hVC-",
        "outputId": "c616a482-4340-4905-eaf1-5707b0d889e7"
      },
      "execution_count": 8,
      "outputs": [
        {
          "output_type": "stream",
          "name": "stdout",
          "text": [
            "True\n",
            "True\n"
          ]
        }
      ]
    },
    {
      "cell_type": "code",
      "source": [
        "#Using if- else Statement in PYTHON\n",
        "a=int(input('Enter a number'))\n",
        "if a%2==0:\n",
        "  print('even no=',a)\n",
        "else:\n",
        "  print('odd no=',a)\n"
      ],
      "metadata": {
        "id": "gRwgHBPhk7_Z",
        "outputId": "315fa304-168f-452b-9532-38c3b351e06d",
        "colab": {
          "base_uri": "https://localhost:8080/"
        }
      },
      "execution_count": 16,
      "outputs": [
        {
          "output_type": "stream",
          "name": "stdout",
          "text": [
            "Enter a number8\n",
            "even no= 8\n"
          ]
        }
      ]
    },
    {
      "cell_type": "code",
      "source": [
        "#Using if - elif statement\n",
        "number = int(input(\"Enter the number\"))\n",
        "if number==10:\n",
        "  print(\"number is equal to 10\")\n",
        "elif number==50:\n",
        "  print(\"number is equal to 50\");\n",
        "elif number==100:\n",
        "  print(\"number is equal to 100\");\n",
        "else:\n",
        "  print(\"number is not equal to 10, 50 or 100\");  \n"
      ],
      "metadata": {
        "id": "k9Pu4_8Vk6nK",
        "outputId": "519dc4e6-acb0-47af-dc84-3c6b58470c55",
        "colab": {
          "base_uri": "https://localhost:8080/"
        }
      },
      "execution_count": 18,
      "outputs": [
        {
          "output_type": "stream",
          "name": "stdout",
          "text": [
            "Enter the number50\n",
            "number is equal to 50\n"
          ]
        }
      ]
    },
    {
      "cell_type": "code",
      "source": [],
      "metadata": {
        "id": "s3_amWwwpozQ"
      },
      "execution_count": null,
      "outputs": []
    },
    {
      "cell_type": "code",
      "source": [
        "#Using for statement\n",
        "x='ABIT'\n",
        "for i in x :\n",
        "  print(i)\n",
        "  "
      ],
      "metadata": {
        "id": "0SRe7sWgpIeK",
        "outputId": "738cac2a-0f18-4313-dfdd-684eeac0696b",
        "colab": {
          "base_uri": "https://localhost:8080/"
        }
      },
      "execution_count": 19,
      "outputs": [
        {
          "output_type": "stream",
          "name": "stdout",
          "text": [
            "A\n",
            "B\n",
            "I\n",
            "T\n"
          ]
        }
      ]
    }
  ]
}